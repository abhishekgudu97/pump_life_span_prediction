{
 "cells": [
  {
   "cell_type": "code",
   "execution_count": 5,
   "id": "af2143ad-ade6-4f3e-9098-ec54f75e0635",
   "metadata": {
    "scrolled": true
   },
   "outputs": [
    {
     "name": "stdout",
     "output_type": "stream",
     "text": [
      "Enter pump power in HP:  5\n",
      "Enter working hours per day:  4\n",
      "Enter power fluctuation (0-20%):  0\n",
      "Enter mechanical loss (0-2%):  2\n",
      "Enter environmental loss (0-0.5%):  1\n"
     ]
    },
    {
     "name": "stdout",
     "output_type": "stream",
     "text": [
      "\n",
      "Predicted Lifespans based on your input:\n",
      "Model 1 Prediction: 40884.50 hours\n",
      "Model 2 Prediction: 41250.71 hours\n",
      "Model 3 Prediction: 40770.19 hours\n",
      "\n",
      "The average predicted pump lifespan is: 40968.46 hours\n",
      "Equivalent to approximately 28.06 years.\n"
     ]
    }
   ],
   "source": [
    "from predict_pump_lifespan import run_pump_prediction\n",
    "\n",
    "# Run the function to predict pump lifespan\n",
    "run_pump_prediction()"
   ]
  },
  {
   "cell_type": "code",
   "execution_count": 1,
   "id": "b565e83c-188f-4901-9c2e-83308ef5ceab",
   "metadata": {},
   "outputs": [
    {
     "name": "stderr",
     "output_type": "stream",
     "text": [
      "C:\\Users\\Abhishek\\anaconda3\\envs\\myenv2\\lib\\site-packages\\sklearn\\base.py:376: InconsistentVersionWarning: Trying to unpickle estimator DummyRegressor from version 1.4.2 when using version 1.5.2. This might lead to breaking code or invalid results. Use at your own risk. For more info please refer to:\n",
      "https://scikit-learn.org/stable/model_persistence.html#security-maintainability-limitations\n",
      "  warnings.warn(\n",
      "C:\\Users\\Abhishek\\anaconda3\\envs\\myenv2\\lib\\site-packages\\sklearn\\base.py:376: InconsistentVersionWarning: Trying to unpickle estimator DecisionTreeRegressor from version 1.4.2 when using version 1.5.2. This might lead to breaking code or invalid results. Use at your own risk. For more info please refer to:\n",
      "https://scikit-learn.org/stable/model_persistence.html#security-maintainability-limitations\n",
      "  warnings.warn(\n",
      "C:\\Users\\Abhishek\\anaconda3\\envs\\myenv2\\lib\\site-packages\\sklearn\\base.py:376: InconsistentVersionWarning: Trying to unpickle estimator GradientBoostingRegressor from version 1.4.2 when using version 1.5.2. This might lead to breaking code or invalid results. Use at your own risk. For more info please refer to:\n",
      "https://scikit-learn.org/stable/model_persistence.html#security-maintainability-limitations\n",
      "  warnings.warn(\n",
      "C:\\Users\\Abhishek\\anaconda3\\envs\\myenv2\\lib\\site-packages\\sklearn\\base.py:376: InconsistentVersionWarning: Trying to unpickle estimator RandomForestRegressor from version 1.4.2 when using version 1.5.2. This might lead to breaking code or invalid results. Use at your own risk. For more info please refer to:\n",
      "https://scikit-learn.org/stable/model_persistence.html#security-maintainability-limitations\n",
      "  warnings.warn(\n",
      "C:\\Users\\Abhishek\\anaconda3\\envs\\myenv2\\lib\\site-packages\\sklearn\\base.py:376: InconsistentVersionWarning: Trying to unpickle estimator KNeighborsRegressor from version 1.4.2 when using version 1.5.2. This might lead to breaking code or invalid results. Use at your own risk. For more info please refer to:\n",
      "https://scikit-learn.org/stable/model_persistence.html#security-maintainability-limitations\n",
      "  warnings.warn(\n"
     ]
    },
    {
     "name": "stdout",
     "output_type": "stream",
     "text": [
      "Enter pump power in HP:  5\n",
      "Enter working hours per day:  10\n",
      "Enter power fluctuation (0-20%):  5\n",
      "Enter mechanical loss (0-2%):  1\n",
      "Enter environmental loss (0-0.5%):  1\n"
     ]
    },
    {
     "name": "stdout",
     "output_type": "stream",
     "text": [
      "\n",
      "Predicted Lifespans based on your input:\n",
      "Model 1 Prediction: 39916.39 hours\n",
      "Model 2 Prediction: 39994.15 hours\n",
      "Model 3 Prediction: 39741.97 hours\n",
      "\n",
      "The average predicted pump lifespan is: 39884.17 hours\n",
      "Equivalent to approximately 10.93 years.\n"
     ]
    }
   ],
   "source": [
    "from predict_pump_lifespan import run_pump_prediction\n",
    "\n",
    "# Run the function to predict pump lifespan\n",
    "run_pump_prediction()"
   ]
  }
 ],
 "metadata": {
  "kernelspec": {
   "display_name": "Python 3 (ipykernel)",
   "language": "python",
   "name": "python3"
  },
  "language_info": {
   "codemirror_mode": {
    "name": "ipython",
    "version": 3
   },
   "file_extension": ".py",
   "mimetype": "text/x-python",
   "name": "python",
   "nbconvert_exporter": "python",
   "pygments_lexer": "ipython3",
   "version": "3.9.20"
  }
 },
 "nbformat": 4,
 "nbformat_minor": 5
}
