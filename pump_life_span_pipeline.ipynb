{
 "cells": [
  {
   "cell_type": "code",
   "execution_count": 2,
   "id": "f24b348c-639a-456a-ae01-a04d94710473",
   "metadata": {},
   "outputs": [
    {
     "name": "stdout",
     "output_type": "stream",
     "text": [
      "Writing predict_pump_lifespan.py\n"
     ]
    }
   ],
   "source": [
    "%%writefile predict_pump_lifespan.py\n",
    "import joblib\n",
    "import pandas as pd\n",
    "\n",
    "# Load models function\n",
    "def load_models():\n",
    "    model_paths = [r\"C:\\Users\\Abhishek\\Desktop\\project done\\saptarshi\\updated\\top_1_model_Gradient Boosting Regressor.pkl\", \n",
    "                   r\"C:\\Users\\Abhishek\\Desktop\\project done\\saptarshi\\updated\\top_2_model_Random Forest Regressor.pkl\", \n",
    "                   r\"C:\\Users\\Abhishek\\Desktop\\project done\\saptarshi\\updated\\top_3_model_K-Nearest Neighbors Regressor.pkl\"]\n",
    "    models = [joblib.load(path) for path in model_paths]\n",
    "    return models\n",
    "\n",
    "# Preprocess the input for the model\n",
    "def preprocess_input(pump_power_hp, working_hours_daily, power_fluctuation, mechanical_loss, environmental_loss):\n",
    "    input_df = pd.DataFrame({\n",
    "        'Motor_Power_HP': [pump_power_hp],\n",
    "        'Working_Hours_Per_Day': [working_hours_daily],\n",
    "        'Power_Fluctuation': [power_fluctuation],\n",
    "        'Mechanical_Loss': [mechanical_loss],\n",
    "        'Environmental_Loss': [environmental_loss],\n",
    "        'Electrical_Loss': [5]  # Electrical loss is fixed at 5%\n",
    "    })\n",
    "    return input_df\n",
    "\n",
    "# Predict the lifespan using the models\n",
    "def predict_pump_lifespan(models, pump_power_hp, working_hours_daily, power_fluctuation, mechanical_loss, environmental_loss):\n",
    "    input_df = preprocess_input(pump_power_hp, working_hours_daily, power_fluctuation, mechanical_loss, environmental_loss)\n",
    "    predictions = []\n",
    "    \n",
    "    for model in models:\n",
    "        predicted_lifespan = model.predict(input_df)\n",
    "        predictions.append(predicted_lifespan[0])\n",
    "    \n",
    "    return predictions\n",
    "\n",
    "# Main function to run the prediction\n",
    "def run_pump_prediction():\n",
    "    models = load_models()\n",
    "    \n",
    "    # Get user input\n",
    "    pump_power_hp = float(input(\"Enter pump power in HP: \"))\n",
    "    working_hours_daily = float(input(\"Enter working hours per day: \"))\n",
    "    power_fluctuation = float(input(\"Enter power fluctuation (0-20%): \"))\n",
    "    mechanical_loss = float(input(\"Enter mechanical loss (0-2%): \"))\n",
    "    environmental_loss = float(input(\"Enter environmental loss (0-0.5%): \"))\n",
    "    \n",
    "    # Predict using the top 3 models\n",
    "    predictions = predict_pump_lifespan(models, pump_power_hp, working_hours_daily, power_fluctuation, mechanical_loss, environmental_loss)\n",
    "    \n",
    "    # Display predictions\n",
    "    print(\"\\nPredicted Lifespans based on your input:\")\n",
    "    for i, pred in enumerate(predictions, 1):\n",
    "        print(f\"Model {i} Prediction: {pred:.2f} hours\")\n",
    "    \n",
    "    # Average prediction\n",
    "    avg_lifespan = sum(predictions) / len(predictions)\n",
    "    print(f\"\\nThe average predicted pump lifespan is: {avg_lifespan:.2f} hours\")\n",
    "    print(f\"Equivalent to approximately {avg_lifespan / (working_hours_daily * 365):.2f} years.\")\n",
    "\n",
    "# Entry point\n",
    "if __name__ == \"__main__\":\n",
    "    run_pump_prediction()\n"
   ]
  },
  {
   "cell_type": "code",
   "execution_count": 4,
   "id": "0d22fabe-64aa-426c-83bd-0e3a0c11d46c",
   "metadata": {},
   "outputs": [
    {
     "name": "stdin",
     "output_type": "stream",
     "text": [
      "Enter pump power in HP:  6\n",
      "Enter working hours per day:  20\n",
      "Enter power fluctuation (0-20%):  10\n",
      "Enter mechanical loss (0-2%):  2\n",
      "Enter environmental loss (0-0.5%):  1\n"
     ]
    },
    {
     "name": "stdout",
     "output_type": "stream",
     "text": [
      "\n",
      "Predicted Lifespans based on your input:\n",
      "Model 1 Prediction: 36662.47 hours\n",
      "Model 2 Prediction: 36805.69 hours\n",
      "Model 3 Prediction: 37426.36 hours\n",
      "\n",
      "The average predicted pump lifespan is: 36964.84 hours\n",
      "Equivalent to approximately 5.06 years.\n"
     ]
    }
   ],
   "source": [
    "from predict_pump_lifespan import run_pump_prediction\n",
    "\n",
    "# Run the function to predict pump lifespan\n",
    "run_pump_prediction()\n"
   ]
  },
  {
   "cell_type": "code",
   "execution_count": null,
   "id": "1c1835fa-018e-415c-9b9c-ba4259f61670",
   "metadata": {},
   "outputs": [],
   "source": []
  }
 ],
 "metadata": {
  "kernelspec": {
   "display_name": "Python 3 (ipykernel)",
   "language": "python",
   "name": "python3"
  },
  "language_info": {
   "codemirror_mode": {
    "name": "ipython",
    "version": 3
   },
   "file_extension": ".py",
   "mimetype": "text/x-python",
   "name": "python",
   "nbconvert_exporter": "python",
   "pygments_lexer": "ipython3",
   "version": "3.9.20"
  }
 },
 "nbformat": 4,
 "nbformat_minor": 5
}
